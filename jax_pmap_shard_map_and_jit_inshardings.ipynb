{
  "nbformat": 4,
  "nbformat_minor": 0,
  "metadata": {
    "colab": {
      "provenance": [],
      "gpuType": "V28",
      "authorship_tag": "ABX9TyMH2BTjOiOc6m5ir+GmKDFG",
      "include_colab_link": true
    },
    "kernelspec": {
      "name": "python3",
      "display_name": "Python 3"
    },
    "language_info": {
      "name": "python"
    },
    "accelerator": "TPU"
  },
  "cells": [
    {
      "cell_type": "markdown",
      "metadata": {
        "id": "view-in-github",
        "colab_type": "text"
      },
      "source": [
        "<a href=\"https://colab.research.google.com/github/ybw9000/jax_playground/blob/main/jax_pmap_shard_map_and_jit_inshardings.ipynb\" target=\"_parent\"><img src=\"https://colab.research.google.com/assets/colab-badge.svg\" alt=\"Open In Colab\"/></a>"
      ]
    },
    {
      "cell_type": "code",
      "execution_count": 1,
      "metadata": {
        "id": "fyDbf0Nq6Swl"
      },
      "outputs": [],
      "source": [
        "import jax\n",
        "import jax.numpy as jnp\n",
        "import jax.nn as nn"
      ]
    },
    {
      "cell_type": "code",
      "source": [
        "devices = jax.devices()\n",
        "devices"
      ],
      "metadata": {
        "colab": {
          "base_uri": "https://localhost:8080/"
        },
        "id": "gcT_U-Tq_YS_",
        "outputId": "6d61fb3d-5b43-47d1-9803-47af08a93e4a"
      },
      "execution_count": 2,
      "outputs": [
        {
          "output_type": "execute_result",
          "data": {
            "text/plain": [
              "[TpuDevice(id=0, process_index=0, coords=(0,0,0), core_on_chip=0),\n",
              " TpuDevice(id=1, process_index=0, coords=(0,0,0), core_on_chip=1),\n",
              " TpuDevice(id=2, process_index=0, coords=(1,0,0), core_on_chip=0),\n",
              " TpuDevice(id=3, process_index=0, coords=(1,0,0), core_on_chip=1),\n",
              " TpuDevice(id=4, process_index=0, coords=(0,1,0), core_on_chip=0),\n",
              " TpuDevice(id=5, process_index=0, coords=(0,1,0), core_on_chip=1),\n",
              " TpuDevice(id=6, process_index=0, coords=(1,1,0), core_on_chip=0),\n",
              " TpuDevice(id=7, process_index=0, coords=(1,1,0), core_on_chip=1)]"
            ]
          },
          "metadata": {},
          "execution_count": 2
        }
      ]
    },
    {
      "cell_type": "code",
      "source": [
        "# would error out if there are less than 7 XLA devices\n",
        "result = jax.pmap(lambda x: x ** 2)(jnp.arange(8))\n",
        "print(result)"
      ],
      "metadata": {
        "colab": {
          "base_uri": "https://localhost:8080/"
        },
        "id": "IQ8Qt6qeZgLT",
        "outputId": "1e2846e4-de47-47e6-f734-198d4026ee39"
      },
      "execution_count": 4,
      "outputs": [
        {
          "output_type": "stream",
          "name": "stdout",
          "text": [
            "[ 0  1  4  9 16 25 36 49]\n"
          ]
        }
      ]
    },
    {
      "cell_type": "code",
      "source": [
        "from jax import make_jaxpr\n",
        "\n",
        "def f(x, y):\n",
        "  a = jnp.dot(x, y)\n",
        "  b = jnp.tanh(a)\n",
        "  return b\n",
        "\n",
        "xs = jnp.ones((8, 2, 3))\n",
        "ys = jnp.ones((8, 3, 4))\n",
        "\n",
        "# 2D dot general aka gemm\n",
        "print(\"f jaxpr\")\n",
        "print(make_jaxpr(f)(xs[0], ys[0]))\n",
        "\n",
        "# 3D dot general aka BMM\n",
        "print(\"vmap(f) jaxpr\")\n",
        "print(make_jaxpr(jax.vmap(f))(xs, ys))\n",
        "\n",
        "# 2D dot general nested in a xla_pmap\n",
        "print(\"pmap(f) jaxpr\")\n",
        "print(make_jaxpr(jax.pmap(f))(xs, ys))"
      ],
      "metadata": {
        "colab": {
          "base_uri": "https://localhost:8080/"
        },
        "id": "ictFgSC6ZvPO",
        "outputId": "b78506a4-a5ff-428b-ff17-c2a87cd748a0"
      },
      "execution_count": 5,
      "outputs": [
        {
          "output_type": "stream",
          "name": "stdout",
          "text": [
            "f jaxpr\n",
            "{ lambda ; a:f32[2,3] b:f32[3,4]. let\n",
            "    c:f32[2,4] = dot_general[\n",
            "      dimension_numbers=(([1], [0]), ([], []))\n",
            "      preferred_element_type=float32\n",
            "    ] a b\n",
            "    d:f32[2,4] = tanh c\n",
            "  in (d,) }\n",
            "vmap(f) jaxpr\n",
            "{ lambda ; a:f32[8,2,3] b:f32[8,3,4]. let\n",
            "    c:f32[8,2,4] = dot_general[\n",
            "      dimension_numbers=(([2], [1]), ([0], [0]))\n",
            "      preferred_element_type=float32\n",
            "    ] a b\n",
            "    d:f32[8,2,4] = tanh c\n",
            "  in (d,) }\n",
            "pmap(f) jaxpr\n",
            "{ lambda ; a:f32[8,2,3] b:f32[8,3,4]. let\n",
            "    c:f32[8,2,4] = xla_pmap[\n",
            "      axis_name=<axis 0x7b315413df30>\n",
            "      axis_size=8\n",
            "      backend=None\n",
            "      call_jaxpr={ lambda ; d:f32[2,3] e:f32[3,4]. let\n",
            "          f:f32[2,4] = dot_general[\n",
            "            dimension_numbers=(([1], [0]), ([], []))\n",
            "            preferred_element_type=float32\n",
            "          ] d e\n",
            "          g:f32[2,4] = tanh f\n",
            "        in (g,) }\n",
            "      devices=None\n",
            "      donated_invars=(False, False)\n",
            "      global_axis_size=8\n",
            "      in_axes=(0, 0)\n",
            "      is_explicit_global_axis_size=False\n",
            "      name=f\n",
            "      out_axes=(0,)\n",
            "    ] a b\n",
            "  in (c,) }\n"
          ]
        }
      ]
    },
    {
      "cell_type": "code",
      "source": [
        "result = jax.pmap(lambda x: x ** 2)(jnp.arange(8))\n",
        "z = result / 2\n",
        "print(z)"
      ],
      "metadata": {
        "colab": {
          "base_uri": "https://localhost:8080/"
        },
        "id": "E92L-pstaDws",
        "outputId": "56c79126-55f9-4ef2-f0f2-17765a1ff8e8"
      },
      "execution_count": 6,
      "outputs": [
        {
          "output_type": "stream",
          "name": "stdout",
          "text": [
            "[ 0.   0.5  2.   4.5  8.  12.5 18.  24.5]\n"
          ]
        }
      ]
    },
    {
      "cell_type": "code",
      "source": [
        "# sharded over multiple devices\n",
        "result.sharding"
      ],
      "metadata": {
        "colab": {
          "base_uri": "https://localhost:8080/"
        },
        "id": "pW2vX6IobH_F",
        "outputId": "82c028ee-fdc4-4131-ac84-fbbe1ffcee70"
      },
      "execution_count": 7,
      "outputs": [
        {
          "output_type": "execute_result",
          "data": {
            "text/plain": [
              "PmapSharding(sharding_spec=ShardingSpec((Unstacked(8),), (ShardedAxis(axis=0),)), devices=[TpuDevice(id=0, process_index=0, coords=(0,0,0), core_on_chip=0)\n",
              " TpuDevice(id=1, process_index=0, coords=(0,0,0), core_on_chip=1)\n",
              " TpuDevice(id=2, process_index=0, coords=(1,0,0), core_on_chip=0)\n",
              " TpuDevice(id=3, process_index=0, coords=(1,0,0), core_on_chip=1)\n",
              " TpuDevice(id=4, process_index=0, coords=(0,1,0), core_on_chip=0)\n",
              " TpuDevice(id=5, process_index=0, coords=(0,1,0), core_on_chip=1)\n",
              " TpuDevice(id=6, process_index=0, coords=(1,1,0), core_on_chip=0)\n",
              " TpuDevice(id=7, process_index=0, coords=(1,1,0), core_on_chip=1)])"
            ]
          },
          "metadata": {},
          "execution_count": 7
        }
      ]
    },
    {
      "cell_type": "code",
      "source": [
        "# moved back to device 0 as result / 2 is not a sharded operation\n",
        "z.sharding"
      ],
      "metadata": {
        "colab": {
          "base_uri": "https://localhost:8080/"
        },
        "id": "jtj58uy8bhj6",
        "outputId": "2ef4c39f-f1e0-4b3d-fd9a-aa8147d00ad0"
      },
      "execution_count": 8,
      "outputs": [
        {
          "output_type": "execute_result",
          "data": {
            "text/plain": [
              "SingleDeviceSharding(device=TpuDevice(id=0, process_index=0, coords=(0,0,0), core_on_chip=0), memory_kind=device)"
            ]
          },
          "metadata": {},
          "execution_count": 8
        }
      ]
    },
    {
      "cell_type": "code",
      "source": [
        "result.global_shards"
      ],
      "metadata": {
        "colab": {
          "base_uri": "https://localhost:8080/"
        },
        "id": "Uq02qmE3bqKu",
        "outputId": "8594ba94-5d1b-4b7b-f067-1be1a195cb40"
      },
      "execution_count": 9,
      "outputs": [
        {
          "output_type": "execute_result",
          "data": {
            "text/plain": [
              "[Shard(device=TpuDevice(id=0, process_index=0, coords=(0,0,0), core_on_chip=0), index=(0,), replica_id=0, data=0),\n",
              " Shard(device=TpuDevice(id=1, process_index=0, coords=(0,0,0), core_on_chip=1), index=(1,), replica_id=0, data=1),\n",
              " Shard(device=TpuDevice(id=2, process_index=0, coords=(1,0,0), core_on_chip=0), index=(2,), replica_id=0, data=4),\n",
              " Shard(device=TpuDevice(id=3, process_index=0, coords=(1,0,0), core_on_chip=1), index=(3,), replica_id=0, data=9),\n",
              " Shard(device=TpuDevice(id=4, process_index=0, coords=(0,1,0), core_on_chip=0), index=(4,), replica_id=0, data=16),\n",
              " Shard(device=TpuDevice(id=5, process_index=0, coords=(0,1,0), core_on_chip=1), index=(5,), replica_id=0, data=25),\n",
              " Shard(device=TpuDevice(id=6, process_index=0, coords=(1,1,0), core_on_chip=0), index=(6,), replica_id=0, data=36),\n",
              " Shard(device=TpuDevice(id=7, process_index=0, coords=(1,1,0), core_on_chip=1), index=(7,), replica_id=0, data=49)]"
            ]
          },
          "metadata": {},
          "execution_count": 9
        }
      ]
    },
    {
      "cell_type": "code",
      "source": [
        "# can not use jnp apis on each shard directly\n",
        "type(result.global_shards[1])"
      ],
      "metadata": {
        "colab": {
          "base_uri": "https://localhost:8080/",
          "height": 204
        },
        "id": "-MSGuKY8cssb",
        "outputId": "c008fff4-4c36-454d-8bc8-2902c5f9f2d2"
      },
      "execution_count": 10,
      "outputs": [
        {
          "output_type": "execute_result",
          "data": {
            "text/plain": [
              "jax._src.array.Shard"
            ],
            "text/html": [
              "<div style=\"max-width:800px; border: 1px solid var(--colab-border-color);\"><style>\n",
              "      pre.function-repr-contents {\n",
              "        overflow-x: auto;\n",
              "        padding: 8px 12px;\n",
              "        max-height: 500px;\n",
              "      }\n",
              "\n",
              "      pre.function-repr-contents.function-repr-contents-collapsed {\n",
              "        cursor: pointer;\n",
              "        max-height: 100px;\n",
              "      }\n",
              "    </style>\n",
              "    <pre style=\"white-space: initial; background:\n",
              "         var(--colab-secondary-surface-color); padding: 8px 12px;\n",
              "         border-bottom: 1px solid var(--colab-border-color);\"><b>jax._src.array.Shard</b><br/>def __init__(device: Device, sharding: Sharding, global_shape: Shape, data: None | ArrayImpl | PRNGKeyArray=None)</pre><pre class=\"function-repr-contents function-repr-contents-collapsed\" style=\"\"><a class=\"filepath\" style=\"display:none\" href=\"#\">/usr/local/lib/python3.10/dist-packages/jax/_src/array.py</a>A single data shard of an Array.\n",
              "\n",
              "Attributes:\n",
              "  device : Which device this shard resides on.\n",
              "  index : The index into the global array of this shard.\n",
              "  replica_id : Integer id indicating which replica of the global array this\n",
              "    shard is part of. Always 0 for fully sharded data\n",
              "    (i.e. when there’s only 1 replica).\n",
              "  data : The data of this shard. None if ``device`` is non-local.</pre>\n",
              "      <script>\n",
              "      if (google.colab.kernel.accessAllowed && google.colab.files && google.colab.files.view) {\n",
              "        for (const element of document.querySelectorAll('.filepath')) {\n",
              "          element.style.display = 'block'\n",
              "          element.onclick = (event) => {\n",
              "            event.preventDefault();\n",
              "            event.stopPropagation();\n",
              "            google.colab.files.view(element.textContent, 62);\n",
              "          };\n",
              "        }\n",
              "      }\n",
              "      for (const element of document.querySelectorAll('.function-repr-contents')) {\n",
              "        element.onclick = (event) => {\n",
              "          event.preventDefault();\n",
              "          event.stopPropagation();\n",
              "          element.classList.toggle('function-repr-contents-collapsed');\n",
              "        };\n",
              "      }\n",
              "      </script>\n",
              "      </div>"
            ]
          },
          "metadata": {},
          "execution_count": 10
        }
      ]
    },
    {
      "cell_type": "code",
      "source": [
        "z_sharded = jax.pmap(lambda x: x / 2)(result)"
      ],
      "metadata": {
        "id": "QmluEJ5Qd2LV"
      },
      "execution_count": 11,
      "outputs": []
    },
    {
      "cell_type": "code",
      "source": [
        "# same value but different layout\n",
        "print(z_sharded)\n",
        "print(z_sharded.sharding)"
      ],
      "metadata": {
        "colab": {
          "base_uri": "https://localhost:8080/"
        },
        "id": "c2idQZ5ZeOMW",
        "outputId": "27dc2578-fd9d-4a9b-ff9b-fb0fc6085b48"
      },
      "execution_count": 12,
      "outputs": [
        {
          "output_type": "stream",
          "name": "stdout",
          "text": [
            "[ 0.   0.5  2.   4.5  8.  12.5 18.  24.5]\n",
            "PmapSharding(sharding_spec=ShardingSpec((Unstacked(8),), (ShardedAxis(axis=0),)), device_ids=[0, 1, 2, 3, 4, 5, 6, 7], device_platform=TPU, device_shape=(8,))\n"
          ]
        }
      ]
    },
    {
      "cell_type": "code",
      "source": [
        "from jax import random\n",
        "\n",
        "# create 8 random keys\n",
        "keys = random.split(random.key(0), 8)\n",
        "# create a 5000 x 6000 matrix on each device by mapping over keys\n",
        "mats = jax.pmap(lambda key: random.normal(key, (128, 256)))(keys)\n",
        "# the stack of matrices is represented logically as a single array\n",
        "print(mats.shape)\n",
        "print(mats.sharding)"
      ],
      "metadata": {
        "colab": {
          "base_uri": "https://localhost:8080/"
        },
        "id": "fup5YhGfeWPy",
        "outputId": "a1d74706-eddc-4e4d-ef8a-4e1e8902003d"
      },
      "execution_count": 13,
      "outputs": [
        {
          "output_type": "stream",
          "name": "stdout",
          "text": [
            "(8, 128, 256)\n",
            "PmapSharding(sharding_spec=ShardingSpec((Unstacked(8), NoSharding(), NoSharding()), (ShardedAxis(axis=0),)), device_ids=[0, 1, 2, 3, 4, 5, 6, 7], device_platform=TPU, device_shape=(8,))\n"
          ]
        }
      ]
    },
    {
      "cell_type": "code",
      "source": [
        "# run a local matmul on each device in parallel (no data transfer)\n",
        "result = jax.pmap(lambda x: jnp.matmul(x, x.T))(mats)\n",
        "result.shape"
      ],
      "metadata": {
        "colab": {
          "base_uri": "https://localhost:8080/"
        },
        "id": "0PmNzlHfe1Zx",
        "outputId": "de22634c-9d27-467f-d1a9-44933b1de55d"
      },
      "execution_count": 14,
      "outputs": [
        {
          "output_type": "execute_result",
          "data": {
            "text/plain": [
              "(8, 128, 128)"
            ]
          },
          "metadata": {},
          "execution_count": 14
        }
      ]
    },
    {
      "cell_type": "code",
      "source": [
        "# only one scalar per device was pulled back to the host\n",
        "res = jax.pmap(jnp.sum)(result)\n",
        "print(res, res.sharding)"
      ],
      "metadata": {
        "colab": {
          "base_uri": "https://localhost:8080/"
        },
        "id": "I7gBbu9YfjSI",
        "outputId": "2b358372-ac2f-4e2e-8560-aad9645aa9a2"
      },
      "execution_count": 15,
      "outputs": [
        {
          "output_type": "stream",
          "name": "stdout",
          "text": [
            "[33369.695 33508.656 33175.78  32662.605 31562.873 32247.285 35248.633\n",
            " 30591.709] PmapSharding(sharding_spec=ShardingSpec((Unstacked(8),), (ShardedAxis(axis=0),)), device_ids=[0, 1, 2, 3, 4, 5, 6, 7], device_platform=TPU, device_shape=(8,))\n"
          ]
        }
      ]
    },
    {
      "cell_type": "code",
      "source": [
        "# all reduce with psum\n",
        "from jax import lax\n",
        "\n",
        "def all_reduce(x):\n",
        "  return lax.psum(x, 'k')\n",
        "\n",
        "x = jax.pmap(lambda key: random.normal(key, (2, 4)))(keys)\n",
        "y = jax.pmap(all_reduce, axis_name='k')(x)\n",
        "single_device_y = jnp.sum(x, axis=0)\n",
        "# all reduce so each the shape of y is still 3D aka 8, 2, 4\n",
        "print(y.shape, single_device_y.shape)\n",
        "# value should match\n",
        "print(y[0], single_device_y)\n",
        "print(jnp.allclose(y[0], single_device_y))"
      ],
      "metadata": {
        "colab": {
          "base_uri": "https://localhost:8080/"
        },
        "id": "3-B3eu9SftV0",
        "outputId": "e7522576-8721-4848-8f8e-7ba4e2b73b24"
      },
      "execution_count": 16,
      "outputs": [
        {
          "output_type": "stream",
          "name": "stdout",
          "text": [
            "(8, 2, 4) (2, 4)\n",
            "[[-0.8284544  -4.95767     0.55136424 -2.3609824 ]\n",
            " [-0.40268528  1.9361467  -4.852154   -1.8133668 ]] [[-0.8284545  -4.95767     0.5513642  -2.3609827 ]\n",
            " [-0.40268534  1.9361467  -4.852154   -1.813367  ]]\n",
            "True\n"
          ]
        }
      ]
    },
    {
      "cell_type": "code",
      "source": [
        "from jax import random\n",
        "from jax import lax\n",
        "\n",
        "# let's work on a gemm K shard\n",
        "def gemm_kshard(x, y):\n",
        "  z = jnp.matmul(x, y)\n",
        "  print(z)\n",
        "  return lax.psum(z, 'i')\n",
        "\n",
        "keys = random.split(random.key(0), 8)\n",
        "x = jax.pmap(lambda key: random.normal(key, (2, 4)))(keys)\n",
        "y = jax.pmap(lambda key: random.normal(key, (4, 2)))(keys)\n",
        "z = jax.pmap(gemm_kshard, axis_name='i')(x, y)\n",
        "print(z.sharding, z.shape)\n",
        "x_0 = x.transpose(1, 0, 2).reshape(x.shape[1], -1)\n",
        "y_0 = y.reshape(-1, y.shape[-1])\n",
        "print(x_0.sharding, y_0.sharding)\n",
        "z_0 = jnp.matmul(x_0, y_0)\n",
        "print(jnp.allclose(z[0], z_0))"
      ],
      "metadata": {
        "colab": {
          "base_uri": "https://localhost:8080/"
        },
        "id": "GHEaO1bKh5j2",
        "outputId": "1dec88f3-24ea-4edb-d035-f800d9cc34d4"
      },
      "execution_count": 17,
      "outputs": [
        {
          "output_type": "stream",
          "name": "stdout",
          "text": [
            "Traced<ShapedArray(float32[2,2])>with<DynamicJaxprTrace(level=0/1)>\n",
            "PmapSharding(sharding_spec=ShardingSpec((Unstacked(8), NoSharding(), NoSharding()), (ShardedAxis(axis=0),)), device_ids=[0, 1, 2, 3, 4, 5, 6, 7], device_platform=TPU, device_shape=(8,)) (8, 2, 2)\n",
            "SingleDeviceSharding(device=TpuDevice(id=0, process_index=0, coords=(0,0,0), core_on_chip=0), memory_kind=device) SingleDeviceSharding(device=TpuDevice(id=0, process_index=0, coords=(0,0,0), core_on_chip=0), memory_kind=device)\n",
            "True\n"
          ]
        }
      ]
    },
    {
      "cell_type": "code",
      "source": [
        "from jax.sharding import Mesh, PartitionSpec as P, NamedSharding\n",
        "from jax.experimental.shard_map import shard_map\n",
        "from functools import partial\n",
        "\n",
        "mesh = Mesh(devices, ('k',))\n",
        "\n",
        "@partial(shard_map, mesh=mesh, in_specs=(P(None, 'k'), P('k', None)), out_specs=P(None, None))\n",
        "def gemm_shard_map(x, y):\n",
        "  z = jnp.matmul(x, y)\n",
        "  return lax.psum(z, 'k')\n",
        "\n",
        "z_shard = gemm_shard_map(x_0, y_0)\n",
        "print(z_shard.sharding)"
      ],
      "metadata": {
        "colab": {
          "base_uri": "https://localhost:8080/"
        },
        "id": "sHbfyllUr04g",
        "outputId": "a3c214e3-4865-4aea-9a78-f88d84e2812b"
      },
      "execution_count": 18,
      "outputs": [
        {
          "output_type": "stream",
          "name": "stdout",
          "text": [
            "NamedSharding(mesh=Mesh('k': 8), spec=PartitionSpec(), memory_kind=device)\n"
          ]
        }
      ]
    },
    {
      "cell_type": "code",
      "source": [
        "z_shard.shape"
      ],
      "metadata": {
        "colab": {
          "base_uri": "https://localhost:8080/"
        },
        "id": "v6UlfyfAPnBO",
        "outputId": "21cf6b1d-5b4c-4ee2-e988-c966cb3534de"
      },
      "execution_count": 19,
      "outputs": [
        {
          "output_type": "execute_result",
          "data": {
            "text/plain": [
              "(2, 2)"
            ]
          },
          "metadata": {},
          "execution_count": 19
        }
      ]
    },
    {
      "cell_type": "code",
      "source": [
        "print(jnp.allclose(z_shard, z_0))"
      ],
      "metadata": {
        "colab": {
          "base_uri": "https://localhost:8080/"
        },
        "id": "NqbHZKBOQbrw",
        "outputId": "a2b3994b-c36d-4ddf-c8a6-9e799493ad9c"
      },
      "execution_count": 20,
      "outputs": [
        {
          "output_type": "stream",
          "name": "stdout",
          "text": [
            "True\n"
          ]
        }
      ]
    },
    {
      "cell_type": "code",
      "source": [
        "@partial(shard_map, mesh=mesh, in_specs=(P(None, 'k'), P('k', None)), out_specs=P('k', None))\n",
        "def gemm_reduce_scatter(x, y):\n",
        "  z = jnp.matmul(x, y)\n",
        "  return lax.psum_scatter(z, axis_name='k', scatter_dimension=0)\n",
        "\n",
        "x = random.normal(keys[0], (8, 16))\n",
        "y = random.normal(keys[0], (16, 2))\n",
        "z = gemm_reduce_scatter(x, y)\n",
        "print(z.sharding)"
      ],
      "metadata": {
        "colab": {
          "base_uri": "https://localhost:8080/"
        },
        "id": "JAXllpyRQlwA",
        "outputId": "6df9bc97-4484-47f1-d59c-b16ca4f5ec67"
      },
      "execution_count": 21,
      "outputs": [
        {
          "output_type": "stream",
          "name": "stdout",
          "text": [
            "NamedSharding(mesh=Mesh('k': 8), spec=PartitionSpec('k',), memory_kind=device)\n"
          ]
        }
      ]
    },
    {
      "cell_type": "code",
      "source": [
        "z.shape"
      ],
      "metadata": {
        "colab": {
          "base_uri": "https://localhost:8080/"
        },
        "id": "OOniuNtvRhqd",
        "outputId": "0d493a81-3f59-46e9-ea7e-3458059c7ed4"
      },
      "execution_count": 22,
      "outputs": [
        {
          "output_type": "execute_result",
          "data": {
            "text/plain": [
              "(16,)"
            ]
          },
          "metadata": {},
          "execution_count": 22
        }
      ]
    },
    {
      "cell_type": "code",
      "source": [
        "# check_rep has to be False otherwise it is legalizing against input is shard yet output is not sharded\n",
        "@partial(shard_map, mesh=mesh, in_specs=(P(None, 'k'), P('k', None)), out_specs=P(None, None), check_rep=False)\n",
        "def gemm_all_reduce(x, y):\n",
        "  z = jnp.matmul(x, y)\n",
        "  z_rs = lax.psum_scatter(z, axis_name='k', scatter_dimension=0)\n",
        "  z_ag = lax.all_gather(z_rs, axis_name='k', axis=0)\n",
        "  return z_ag\n",
        "\n",
        "x = random.normal(keys[0], (8, 16))\n",
        "y = random.normal(keys[0], (16, 2))\n",
        "z = gemm_all_reduce(x, y)\n",
        "print(z.sharding)\n",
        "z_psum = gemm_shard_map(x, y)\n",
        "print(z_psum.sharding)\n",
        "print(jnp.allclose(z, z_psum))"
      ],
      "metadata": {
        "colab": {
          "base_uri": "https://localhost:8080/"
        },
        "id": "84Tpz_XxR1PU",
        "outputId": "ac5702f3-55b8-4622-98fc-39d32c19b5e3"
      },
      "execution_count": 23,
      "outputs": [
        {
          "output_type": "stream",
          "name": "stdout",
          "text": [
            "NamedSharding(mesh=Mesh('k': 8), spec=PartitionSpec(), memory_kind=device)\n",
            "NamedSharding(mesh=Mesh('k': 8), spec=PartitionSpec(), memory_kind=device)\n",
            "True\n"
          ]
        }
      ]
    },
    {
      "cell_type": "code",
      "source": [
        "def qkv(x, q, k, v, num_heads=8):\n",
        "    # x: S, K\n",
        "    # Q, K, V: K, M\n",
        "    x_q = jnp.matmul(x, q).reshape(x.shape[0], num_heads, -1).transpose(1, 0, 2)  # S, M -> S, H, E -> H, S, E\n",
        "    x_k = jnp.matmul(x, k).reshape(x.shape[0], num_heads, -1).transpose(1, 0, 2)  # S, M -> S, H, E -> H, S, E\n",
        "    x_v = jnp.matmul(x, v).reshape(x.shape[0], num_heads, -1).transpose(1, 0, 2)  # S, M -> S, H, E -> H, S, E\n",
        "    return x_q, x_k, x_v\n",
        "\n",
        "def attention(q, k, v, proj):\n",
        "    k_t = k.transpose(0, 2, 1)  # H, S, E -> H, E, S\n",
        "    qk = jnp.matmul(q, k_t)  # H, S, S\n",
        "    qk = qk / jnp.sqrt(q.shape[-1])\n",
        "    qk = jax.nn.softmax(qk, axis=-1)\n",
        "    mm1 = jnp.matmul(qk, v)  # H, S, E\n",
        "    head_fuse = mm1.transpose(1, 0, 2).reshape(q.shape[1], -1)  # S, H, E -> S, E*H\n",
        "    proj_out = jnp.matmul(head_fuse, proj)\n",
        "    return proj_out\n",
        "\n",
        "def mlp(up, down, x):\n",
        "    out = jnp.matmul(x, up)\n",
        "    out = jax.nn.gelu(out)\n",
        "    out = jnp.matmul(out, down)\n",
        "    return out\n",
        "\n",
        "def transformer_layer(x, q, k, v, proj, up, down):\n",
        "    x_q, x_k, x_v = qkv(x, q, k, v)\n",
        "    out = attention(x_q, x_k, x_v, proj) + x\n",
        "    out = mlp(up, down, out) + out\n",
        "    return out"
      ],
      "metadata": {
        "id": "GEJ7FElBSp6Z"
      },
      "execution_count": 69,
      "outputs": []
    },
    {
      "cell_type": "code",
      "source": [
        "x = random.normal(keys[0], (128, 1024))\n",
        "q = random.normal(keys[1], (1024, 1024)) / jnp.sqrt(1024)\n",
        "k = random.normal(keys[2], (1024, 1024)) / jnp.sqrt(1024)\n",
        "v = random.normal(keys[3], (1024, 1024)) / jnp.sqrt(1024)\n",
        "proj = random.normal(keys[4], (1024, 1024)) / jnp.sqrt(1024)\n",
        "up = random.normal(keys[5], (1024, 4096)) / jnp.sqrt(1024)\n",
        "down = random.normal(keys[6], (4096, 1024)) / jnp.sqrt(4096)"
      ],
      "metadata": {
        "id": "hoS560j9Xg2o"
      },
      "execution_count": 25,
      "outputs": []
    },
    {
      "cell_type": "code",
      "source": [
        "out = transformer_layer(x, q, k, v, proj, up, down)\n",
        "print(out.sharding)"
      ],
      "metadata": {
        "colab": {
          "base_uri": "https://localhost:8080/"
        },
        "id": "AL8BKJ3GYH-o",
        "outputId": "2751ebb9-5420-4a36-922f-d1f139777b13"
      },
      "execution_count": 29,
      "outputs": [
        {
          "output_type": "stream",
          "name": "stdout",
          "text": [
            "SingleDeviceSharding(device=TpuDevice(id=0, process_index=0, coords=(0,0,0), core_on_chip=0), memory_kind=device)\n"
          ]
        }
      ]
    },
    {
      "cell_type": "code",
      "source": [
        "in_shardings = (\n",
        "    jax.sharding.NamedSharding(mesh, P(None, None)),  # x\n",
        "    jax.sharding.NamedSharding(mesh, P(None, 'k')),  # q\n",
        "    jax.sharding.NamedSharding(mesh, P(None, 'k')),  # k\n",
        "    jax.sharding.NamedSharding(mesh, P(None, 'k')),  # v\n",
        "    jax.sharding.NamedSharding(mesh, P('k', None)),  # proj\n",
        "    jax.sharding.NamedSharding(mesh, P(None, 'k')),  # up\n",
        "    jax.sharding.NamedSharding(mesh, P('k', None))   # down\n",
        ")\n",
        "transformer_layer_gspmd = jax.jit(transformer_layer, in_shardings=in_shardings)"
      ],
      "metadata": {
        "id": "8U8RhozoYOd5"
      },
      "execution_count": 30,
      "outputs": []
    },
    {
      "cell_type": "code",
      "source": [
        "out_gspmd = transformer_layer_gspmd(x, q, k, v, proj, up, down)\n",
        "print(out_gspmd.sharding)"
      ],
      "metadata": {
        "colab": {
          "base_uri": "https://localhost:8080/"
        },
        "id": "nPphRXziaNrg",
        "outputId": "7f4ae129-0628-4374-e992-ab6d2120ef02"
      },
      "execution_count": 31,
      "outputs": [
        {
          "output_type": "stream",
          "name": "stdout",
          "text": [
            "NamedSharding(mesh=Mesh('k': 8), spec=PartitionSpec(None, None), memory_kind=device)\n"
          ]
        }
      ]
    },
    {
      "cell_type": "code",
      "source": [
        "out_gspmd.shape"
      ],
      "metadata": {
        "colab": {
          "base_uri": "https://localhost:8080/"
        },
        "id": "m1Osx3F_aQdm",
        "outputId": "5a6ce5ce-96fd-4bc3-8545-37601efcf95a"
      },
      "execution_count": 32,
      "outputs": [
        {
          "output_type": "execute_result",
          "data": {
            "text/plain": [
              "(128, 1024)"
            ]
          },
          "metadata": {},
          "execution_count": 32
        }
      ]
    },
    {
      "cell_type": "code",
      "source": [
        "out.shape"
      ],
      "metadata": {
        "colab": {
          "base_uri": "https://localhost:8080/"
        },
        "id": "qYF9ziYRcyIf",
        "outputId": "c30b82bb-1f78-48d2-cddd-2edacae6d6ae"
      },
      "execution_count": 33,
      "outputs": [
        {
          "output_type": "execute_result",
          "data": {
            "text/plain": [
              "(128, 1024)"
            ]
          },
          "metadata": {},
          "execution_count": 33
        }
      ]
    },
    {
      "cell_type": "code",
      "source": [
        "print(jnp.allclose(out, out_gspmd))"
      ],
      "metadata": {
        "colab": {
          "base_uri": "https://localhost:8080/"
        },
        "id": "3ChqCuHNc0H-",
        "outputId": "5e111562-a1b4-4e81-e4f3-5ba816de2998"
      },
      "execution_count": 34,
      "outputs": [
        {
          "output_type": "stream",
          "name": "stdout",
          "text": [
            "False\n"
          ]
        }
      ]
    },
    {
      "cell_type": "code",
      "source": [
        "print(jnp.allclose(out[:, 0], out_gspmd[:, 0]))"
      ],
      "metadata": {
        "colab": {
          "base_uri": "https://localhost:8080/"
        },
        "id": "luQcxiB0c2nZ",
        "outputId": "593d36b0-0fd1-4bcd-adc6-4ae1b129d151"
      },
      "execution_count": 35,
      "outputs": [
        {
          "output_type": "stream",
          "name": "stdout",
          "text": [
            "True\n"
          ]
        }
      ]
    },
    {
      "cell_type": "code",
      "source": [
        "print(jnp.allclose(out[0, :128], out_gspmd[0, :128]))"
      ],
      "metadata": {
        "colab": {
          "base_uri": "https://localhost:8080/"
        },
        "id": "lzsZL08Kc6WZ",
        "outputId": "04bc0cbe-3173-46c0-e612-aa866e87c599"
      },
      "execution_count": 36,
      "outputs": [
        {
          "output_type": "stream",
          "name": "stdout",
          "text": [
            "True\n"
          ]
        }
      ]
    },
    {
      "cell_type": "code",
      "source": [
        "x_sharded = jax.device_put(x, NamedSharding(mesh, P(None, None)))\n",
        "q_sharded = jax.device_put(q,  NamedSharding(mesh, P(None, 'k')))\n",
        "k_sharded = jax.device_put(k,  NamedSharding(mesh, P(None, 'k')))\n",
        "v_sharded = jax.device_put(v,  NamedSharding(mesh, P(None, 'k')))\n",
        "proj_sharded = jax.device_put(proj,  NamedSharding(mesh, P('k', None)))\n",
        "up_sharded = jax.device_put(up,  NamedSharding(mesh, P(None, 'k')))\n",
        "down_sharded = jax.device_put(down,  NamedSharding(mesh, P('k', None)))"
      ],
      "metadata": {
        "id": "XduUV1yPc8qW"
      },
      "execution_count": 37,
      "outputs": []
    },
    {
      "cell_type": "code",
      "source": [
        "out_gspmd_sharded_input = jax.jit(transformer_layer)(x_sharded, q_sharded, k_sharded, v_sharded, proj_sharded, up_sharded, down_sharded)"
      ],
      "metadata": {
        "id": "nsAlE3ExeWZ2"
      },
      "execution_count": 38,
      "outputs": []
    },
    {
      "cell_type": "code",
      "source": [
        "print(jnp.allclose(out_gspmd, out_gspmd_sharded_input))"
      ],
      "metadata": {
        "colab": {
          "base_uri": "https://localhost:8080/"
        },
        "id": "N9su26Hhe3eP",
        "outputId": "e25d702f-b971-4cc2-f548-e32310fe4046"
      },
      "execution_count": 39,
      "outputs": [
        {
          "output_type": "stream",
          "name": "stdout",
          "text": [
            "True\n"
          ]
        }
      ]
    },
    {
      "cell_type": "code",
      "source": [
        "@partial(shard_map, mesh=mesh, in_specs=(P(None, None), P(None, 'k'), P(None, 'k'), P(None, 'k')), out_specs=(P('k', None, None), ) * 3)\n",
        "def qkv_manual_shard(x, q, k, v):\n",
        "    return qkv(x, q, k, v, num_heads=8//mesh.shape['k'])\n",
        "\n",
        "@partial(shard_map, mesh=mesh, in_specs=(P('k', None, None), ) * 3 + (P('k', None), ), out_specs=P(None, None))\n",
        "def attention_manual_shard(q, k, v, proj):\n",
        "    out = attention(q, k, v, proj)\n",
        "    return lax.psum(out, 'k')\n",
        "\n",
        "\n",
        "@partial(shard_map, mesh=mesh, in_specs=(P(None, 'k'), P('k', None), P(None, None)), out_specs=P(None, None))\n",
        "def mlp_manual_shard(up, down, x):\n",
        "    out = mlp(up, down, x)\n",
        "    return lax.psum(out, 'k')\n",
        "\n",
        "def transformer_layer_manual_shard(x, q, k, v, proj, up, down):\n",
        "    x_q, x_k, x_v = qkv_manual_shard(x, q, k, v)\n",
        "    out = attention_manual_shard(x_q, x_k, x_v, proj) + x\n",
        "    out = mlp_manual_shard(up, down, out) + out\n",
        "    return out\n",
        ""
      ],
      "metadata": {
        "id": "v8dWPxq_e8ZP"
      },
      "execution_count": 86,
      "outputs": []
    },
    {
      "cell_type": "code",
      "source": [
        "qkv_out = jax.jit(qkv)(x_sharded, q_sharded, k_sharded, v_sharded)"
      ],
      "metadata": {
        "id": "vpTnw3fxo0qV"
      },
      "execution_count": null,
      "outputs": []
    },
    {
      "cell_type": "code",
      "source": [
        "qkv_out_manual = qkv_manual_shard(x_sharded, q_sharded, k_sharded, v_sharded)"
      ],
      "metadata": {
        "id": "QALkuXyBr-Tg"
      },
      "execution_count": 87,
      "outputs": []
    },
    {
      "cell_type": "code",
      "source": [
        "for i in range(3):\n",
        "    print(jnp.allclose(qkv_out_manual[i], qkv_out[i]))"
      ],
      "metadata": {
        "colab": {
          "base_uri": "https://localhost:8080/"
        },
        "id": "5dSDOs_oqWkn",
        "outputId": "0045b43d-ce5b-42ec-aeea-36f949284270"
      },
      "execution_count": 88,
      "outputs": [
        {
          "output_type": "stream",
          "name": "stdout",
          "text": [
            "True\n",
            "True\n",
            "True\n"
          ]
        }
      ]
    },
    {
      "cell_type": "code",
      "source": [
        "attention_out_manual = attention_manual_shard(*qkv_out_manual, proj_sharded)\n",
        "attention_out = jax.jit(attention)(*qkv_out, proj_sharded)\n",
        "print(jnp.allclose(attention_out_manual, attention_out))"
      ],
      "metadata": {
        "colab": {
          "base_uri": "https://localhost:8080/"
        },
        "id": "XnUfQu3fqsAM",
        "outputId": "ef8bf48c-41dc-40e1-dea6-c12e14a60200"
      },
      "execution_count": 74,
      "outputs": [
        {
          "output_type": "stream",
          "name": "stdout",
          "text": [
            "True\n"
          ]
        }
      ]
    },
    {
      "cell_type": "code",
      "source": [
        "mlp_out_manual = mlp_manual_shard(up_sharded, down_sharded, attention_out_manual)\n",
        "mlp_out = jax.jit(mlp)(up_sharded, down_sharded, attention_out)\n",
        "print(jnp.allclose(mlp_out_manual, mlp_out))"
      ],
      "metadata": {
        "colab": {
          "base_uri": "https://localhost:8080/"
        },
        "id": "dihMG76ivdGR",
        "outputId": "7b98221d-919b-4c38-b886-72e0c4cfdca6"
      },
      "execution_count": 75,
      "outputs": [
        {
          "output_type": "stream",
          "name": "stdout",
          "text": [
            "True\n"
          ]
        }
      ]
    },
    {
      "cell_type": "code",
      "source": [
        "out_manual_shard = transformer_layer_manual_shard(x_sharded, q_sharded, k_sharded, v_sharded, proj_sharded, up_sharded, down_sharded)\n",
        "out_gspmd_sharded_input = jax.jit(transformer_layer)(x_sharded, q_sharded, k_sharded, v_sharded, proj_sharded, up_sharded, down_sharded)\n",
        "print(jnp.allclose(out_manual_shard, out_gspmd_sharded_input))"
      ],
      "metadata": {
        "colab": {
          "base_uri": "https://localhost:8080/"
        },
        "id": "wynavsT2vnI_",
        "outputId": "2ff2ae83-ea4d-4404-ea5d-10ff70429945"
      },
      "execution_count": 89,
      "outputs": [
        {
          "output_type": "stream",
          "name": "stdout",
          "text": [
            "True\n"
          ]
        }
      ]
    },
    {
      "cell_type": "code",
      "source": [
        "%timeit out_manual_shard = transformer_layer_manual_shard(x_sharded, q_sharded, k_sharded, v_sharded, proj_sharded, up_sharded, down_sharded)"
      ],
      "metadata": {
        "colab": {
          "base_uri": "https://localhost:8080/"
        },
        "id": "NTyHTIr4v1g4",
        "outputId": "4ada1bc5-a021-426f-dc59-3c677f97df95"
      },
      "execution_count": 91,
      "outputs": [
        {
          "output_type": "stream",
          "name": "stdout",
          "text": [
            "3.1 s ± 51.6 ms per loop (mean ± std. dev. of 7 runs, 1 loop each)\n"
          ]
        }
      ]
    },
    {
      "cell_type": "code",
      "source": [
        "jitted = jax.jit(transformer_layer)\n",
        "%timeit out_gspmd_sharded_input = jitted(x_sharded, q_sharded, k_sharded, v_sharded, proj_sharded, up_sharded, down_sharded)"
      ],
      "metadata": {
        "colab": {
          "base_uri": "https://localhost:8080/"
        },
        "id": "Gb6RLWAYw1zU",
        "outputId": "b78ffd7b-8251-4994-b39d-ddfc88885355"
      },
      "execution_count": 94,
      "outputs": [
        {
          "output_type": "stream",
          "name": "stdout",
          "text": [
            "591 µs ± 22 µs per loop (mean ± std. dev. of 7 runs, 1000 loops each)\n"
          ]
        }
      ]
    },
    {
      "cell_type": "code",
      "source": [
        "jitted = jax.jit(transformer_layer_manual_shard)\n",
        "%timeit out_manual_shard = jitted(x_sharded, q_sharded, k_sharded, v_sharded, proj_sharded, up_sharded, down_sharded)"
      ],
      "metadata": {
        "colab": {
          "base_uri": "https://localhost:8080/"
        },
        "id": "3E7i0fH9xDci",
        "outputId": "f8f0650a-5bbf-48e5-ac31-0f359463cca7"
      },
      "execution_count": 95,
      "outputs": [
        {
          "output_type": "stream",
          "name": "stdout",
          "text": [
            "613 µs ± 87.2 µs per loop (mean ± std. dev. of 7 runs, 1000 loops each)\n"
          ]
        }
      ]
    },
    {
      "cell_type": "code",
      "source": [],
      "metadata": {
        "id": "5SThhLsRxPUi"
      },
      "execution_count": null,
      "outputs": []
    }
  ]
}