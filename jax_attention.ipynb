{
  "nbformat": 4,
  "nbformat_minor": 0,
  "metadata": {
    "colab": {
      "provenance": [],
      "gpuType": "V28",
      "authorship_tag": "ABX9TyN5q2+MNSQBoSBN3WIsW2uE",
      "include_colab_link": true
    },
    "kernelspec": {
      "name": "python3",
      "display_name": "Python 3"
    },
    "language_info": {
      "name": "python"
    },
    "accelerator": "TPU"
  },
  "cells": [
    {
      "cell_type": "markdown",
      "metadata": {
        "id": "view-in-github",
        "colab_type": "text"
      },
      "source": [
        "<a href=\"https://colab.research.google.com/github/ybw9000/jax_playground/blob/main/jax_attention.ipynb\" target=\"_parent\"><img src=\"https://colab.research.google.com/assets/colab-badge.svg\" alt=\"Open In Colab\"/></a>"
      ]
    },
    {
      "cell_type": "code",
      "execution_count": 1,
      "metadata": {
        "id": "fyDbf0Nq6Swl"
      },
      "outputs": [],
      "source": [
        "import jax\n",
        "import jax.numpy as jnp\n",
        "import jax.nn as nn"
      ]
    },
    {
      "cell_type": "code",
      "source": [
        "devices = jax.devices()"
      ],
      "metadata": {
        "id": "_GeTAO3h_US8"
      },
      "execution_count": 2,
      "outputs": []
    },
    {
      "cell_type": "code",
      "source": [
        "devices"
      ],
      "metadata": {
        "colab": {
          "base_uri": "https://localhost:8080/"
        },
        "id": "gcT_U-Tq_YS_",
        "outputId": "a957054c-56d0-48ae-edf6-126d0fef1e78"
      },
      "execution_count": 3,
      "outputs": [
        {
          "output_type": "execute_result",
          "data": {
            "text/plain": [
              "[TpuDevice(id=0, process_index=0, coords=(0,0,0), core_on_chip=0),\n",
              " TpuDevice(id=1, process_index=0, coords=(0,0,0), core_on_chip=1),\n",
              " TpuDevice(id=2, process_index=0, coords=(1,0,0), core_on_chip=0),\n",
              " TpuDevice(id=3, process_index=0, coords=(1,0,0), core_on_chip=1),\n",
              " TpuDevice(id=4, process_index=0, coords=(0,1,0), core_on_chip=0),\n",
              " TpuDevice(id=5, process_index=0, coords=(0,1,0), core_on_chip=1),\n",
              " TpuDevice(id=6, process_index=0, coords=(1,1,0), core_on_chip=0),\n",
              " TpuDevice(id=7, process_index=0, coords=(1,1,0), core_on_chip=1)]"
            ]
          },
          "metadata": {},
          "execution_count": 3
        }
      ]
    },
    {
      "cell_type": "code",
      "source": [
        "def attention(query: jnp.ndarray, key: jnp.ndarray, value: jnp.ndarray):\n",
        "    mm0 = jnp.matmul(query, jnp.transpose(key, [0, 1, 3, 2]))\n",
        "    sm = nn.softmax(mm0 / jnp.sqrt(query.shape[-1]), axis=-1)\n",
        "    return jnp.matmul(sm, value)"
      ],
      "metadata": {
        "id": "pfhUcEfN6nsE"
      },
      "execution_count": 44,
      "outputs": []
    },
    {
      "cell_type": "code",
      "source": [
        "key = jax.random.PRNGKey(42)"
      ],
      "metadata": {
        "id": "nD9prVSQ9nX_"
      },
      "execution_count": 8,
      "outputs": []
    },
    {
      "cell_type": "code",
      "source": [
        "x = jax.random.normal(key, [2, 4, 128, 64], jnp.bfloat16)\n",
        "x = x.to_device(devices[0])"
      ],
      "metadata": {
        "id": "5NUivxb88M-b"
      },
      "execution_count": 9,
      "outputs": []
    },
    {
      "cell_type": "code",
      "source": [
        "def custom_softmax(x: jnp.ndarray, axis: int):\n",
        "    max_x = jnp.max(x, axis=axis, keepdims=True)\n",
        "    exp_x = jnp.exp(x - max_x)\n",
        "    sum_x = jnp.sum(exp_x, axis=axis, keepdims=True)\n",
        "    return exp_x / sum_x"
      ],
      "metadata": {
        "id": "O-TB-g9pA97a"
      },
      "execution_count": 10,
      "outputs": []
    },
    {
      "cell_type": "code",
      "source": [
        "with jax.default_device(devices[0]):\n",
        "    test_input = jax.random.normal(key, [2, 128], jnp.bfloat16)\n",
        "    test_custom = custom_softmax(x, axis=-1)\n",
        "    test_jax = nn.softmax(x, axis=-1)\n",
        "    print(jnp.allclose(test_custom, test_jax))\n"
      ],
      "metadata": {
        "colab": {
          "base_uri": "https://localhost:8080/"
        },
        "id": "s5RpfnKABdL8",
        "outputId": "37992144-cb1e-42cf-dce6-bacd118b04bd"
      },
      "execution_count": 11,
      "outputs": [
        {
          "output_type": "stream",
          "name": "stdout",
          "text": [
            "True\n"
          ]
        }
      ]
    },
    {
      "cell_type": "code",
      "source": [
        "def flashattention(query: jnp.ndarray, key: jnp.ndarray, value: jnp.ndarray, blocksize_q: int, blocksize_kv: int):\n",
        "    query = query.reshape(query.shape[0], query.shape[1], query.shape[2] // blocksize_q, 1, blocksize_q, query.shape[3])\n",
        "    key = key.reshape(key.shape[0], key.shape[1], 1, key.shape[2] // blocksize_kv, blocksize_kv, key.shape[3])\n",
        "    key = key.transpose(0, 1, 2, 3, 5, 4)\n",
        "    mm0 = jnp.matmul(query, key) / jnp.sqrt(query.shape[-1])  # b, h, num_blocks_q, num_blocks_kv, blocksize_q, block_size_kv\n",
        "    softmax_max = jnp.max(mm0, axis=-1, keepdims=True)  # b, h, num_blocks_q, num_blocks_kv, blocksize_q, 1\n",
        "    softmax_exp = jnp.exp(mm0 - softmax_max) # b, h, num_blocks_q, num_blocks_kv, blocksize_q, blocksize_kv\n",
        "    value = value.reshape(value.shape[0], value.shape[1], 1, value.shape[2] // blocksize_kv, blocksize_kv, value.shape[3])\n",
        "    mm1_pristine = jnp.matmul(softmax_exp, value)  # b, h, num_blocks_q, num_blocks_kv, blocksize_q, d\n",
        "    softmax_block_max = jnp.max(softmax_max, axis=-3, keepdims=True)  # b, h, num_blocks_q, 1, blocksize_q, 1\n",
        "    softmax_max_offset = softmax_max - softmax_block_max # b, h, num_blocks_q, num_blocks_kv, blocksize_q, 1\n",
        "    softmax_exp_offset = jnp.exp(softmax_max_offset)  # b, h, num_blocks_q, num_blocks_kv, blocksize_q, 1\n",
        "    mm1_exp_scaled = jnp.multiply(mm1_pristine, softmax_exp_offset)  # b, h, num_blocks_q, num_blocks_kv, blocksize_q, d\n",
        "    mm1_scaled_sum = jnp.sum(mm1_exp_scaled, axis=-3, keepdims=True)  # b, h, num_blocks_q, 1, blocksize_q, d\n",
        "    softmax_exp_scaled = jnp.multiply(softmax_exp, softmax_exp_offset)  # b, h, num_blocks_q, num_blocks_kv, blocksize_q, blocksize_kv\n",
        "    softmax_sum = jnp.sum(softmax_exp_scaled, axis=[-3, -1], keepdims=True)  # b, h, num_blocks_q, 1, blocksize_q, 1\n",
        "    res = jnp.divide(mm1_scaled_sum, softmax_sum)  # b, h, num_blocks_q, 1, blocksize_q, d\n",
        "    return res.reshape(res.shape[0], res.shape[1], -1, res.shape[-1])  # b, h, q, d"
      ],
      "metadata": {
        "id": "kAstSbLz_6Q3"
      },
      "execution_count": 106,
      "outputs": []
    },
    {
      "cell_type": "code",
      "source": [
        "y = attention(x, x, x)"
      ],
      "metadata": {
        "id": "25GXi-38RvA3"
      },
      "execution_count": 63,
      "outputs": []
    },
    {
      "cell_type": "code",
      "source": [
        "def dot_product(x, y):\n",
        "  return jnp.dot(x, y)"
      ],
      "metadata": {
        "id": "ykt0A7gSj2v7"
      },
      "execution_count": 4,
      "outputs": []
    },
    {
      "cell_type": "code",
      "source": [
        "gemmv = jax.vmap(dot_product, in_axes=(0, None), out_axes=0)\n",
        "gemm = jax.vmap(gemmv, in_axes=(None, 1), out_axes=1)"
      ],
      "metadata": {
        "id": "_SjLqffqVLak"
      },
      "execution_count": 6,
      "outputs": []
    },
    {
      "cell_type": "code",
      "source": [
        "with jax.default_device(devices[0]):\n",
        "    test_x = jax.random.normal(key, [4, 2], jnp.bfloat16)\n",
        "    test_y = jax.random.normal(key, [2, 8], jnp.bfloat16)\n",
        "    test_custom = gemm(test_x, test_y)\n",
        "    test_jax = jnp.matmul(test_x, test_y)\n",
        "    print(jnp.allclose(test_custom, test_jax))"
      ],
      "metadata": {
        "colab": {
          "base_uri": "https://localhost:8080/"
        },
        "id": "EwvctM_1W2tu",
        "outputId": "17b1399f-954b-47ce-823c-49ac6cca1c90"
      },
      "execution_count": 10,
      "outputs": [
        {
          "output_type": "stream",
          "name": "stdout",
          "text": [
            "True\n"
          ]
        }
      ]
    },
    {
      "cell_type": "code",
      "source": [
        "with jax.default_device(devices[0]):\n",
        "    test_x = jax.random.normal(key, [4, 2], jnp.bfloat16)\n",
        "    test_y = jax.random.normal(key, [2, 8], jnp.bfloat16)\n",
        "    test_custom = gemm(test_x, test_y)\n",
        "    jaxpr = jax.make_jaxpr(gemm)(test_x, test_y)\n",
        "    print(jaxpr)"
      ],
      "metadata": {
        "colab": {
          "base_uri": "https://localhost:8080/"
        },
        "id": "0vFRmU-TpDDJ",
        "outputId": "34609449-f3c0-468f-feee-ddf885d8747f"
      },
      "execution_count": 58,
      "outputs": [
        {
          "output_type": "stream",
          "name": "stdout",
          "text": [
            "{ lambda ; a:bf16[4,2] b:bf16[2,8]. let\n",
            "    c:bf16[4,8] = dot_general[\n",
            "      dimension_numbers=(([1], [0]), ([], []))\n",
            "      preferred_element_type=bfloat16\n",
            "    ] a b\n",
            "  in (c,) }\n"
          ]
        }
      ]
    },
    {
      "cell_type": "code",
      "source": [],
      "metadata": {
        "id": "71hlnZCmo4Mg"
      },
      "execution_count": null,
      "outputs": []
    },
    {
      "cell_type": "code",
      "source": [
        "from functools import partial\n",
        "\n",
        "def attention_2d(query: jnp.ndarray, key: jnp.ndarray, value: jnp.ndarray):\n",
        "    # query: d\n",
        "    # key, value: sk x d\n",
        "    key_t = key.transpose()  # sk x d\n",
        "    mm0 = jnp.matmul(query, key_t)  # sk\n",
        "    mm0_scale = mm0 / jnp.sqrt(query.shape[-1])  # sk\n",
        "    mm0_max = jnp.max(mm0_scale, axis=-1, keepdims=True)  # 1\n",
        "    mm0_exp = jnp.exp(mm0_scale - mm0_max)  # sk\n",
        "    mm1 = jnp.matmul(mm0_exp, value)  # d\n",
        "    return mm1, mm0_max, mm0_exp\n",
        "\n",
        "def attention_kv_tiling(query: jnp.ndarray, key: jnp.ndarray, value: jnp.ndarray):\n",
        "    # query: d\n",
        "    # key, value: num_sk x sk_size x d\n",
        "    attention_out, attention_max, attention_exp = jax.vmap(attention_2d, in_axes=(None, 0, 0))(query, key, value)  # num_sk, d; num_sk, 1; num_sk, sk_size\n",
        "    attention_max_global = attention_max.max(axis=0, keepdims=True)  # 1, 1\n",
        "    attention_max_offset = attention_max - attention_max_global  # num_sk, 1\n",
        "    attention_exp_offset = jnp.exp(attention_max_offset)  # num_sk, 1\n",
        "    attention_out_scaled = jnp.multiply(attention_out, attention_exp_offset)  # num_sk, d\n",
        "    attention_out_sum = jnp.sum(attention_out_scaled, axis=0, keepdims=False)  # d\n",
        "    attention_exp_scaled = jnp.multiply(attention_exp, attention_exp_offset)  # num_sk, sk_size\n",
        "    attention_sm_sum = jnp.sum(attention_exp_scaled, keepdims=False)  # 1\n",
        "    return attention_out_sum / attention_sm_sum\n",
        "\n",
        "def attention_kv_tiling(query: jnp.ndarray, key: jnp.ndarray, value: jnp.ndarray):\n",
        "    # query: d\n",
        "    # key, value: num_sk x sk_size x d\n",
        "    attention_out, attention_max, attention_exp = jax.vmap(attention_2d, in_axes=(None, 0, 0))(query, key, value)  # num_sk, d; num_sk, 1; num_sk, sk_size\n",
        "    attention_max_global = attention_max.max(axis=0, keepdims=True)  # 1, 1\n",
        "    attention_max_offset = attention_max - attention_max_global  # num_sk, 1\n",
        "    attention_exp_offset = jnp.exp(attention_max_offset)  # num_sk, 1\n",
        "    attention_out_scaled = jnp.multiply(attention_out, attention_exp_offset)  # num_sk, d\n",
        "    attention_out_sum = jnp.sum(attention_out_scaled, axis=0, keepdims=False)  # d\n",
        "    attention_exp_scaled = jnp.multiply(attention_exp, attention_exp_offset)  # num_sk, sk_size\n",
        "    attention_sm_sum = jnp.sum(attention_exp_scaled, keepdims=False)  # 1\n",
        "    return attention_out_sum / attention_sm_sum\n",
        "\n",
        "\n",
        "def attention_kv_looping(query: jnp.ndarray, key: jnp.ndarray, value: jnp.ndarray):\n",
        "    # query: d\n",
        "    # key, value: num_sk x sk_size x d\n",
        "    attention_accum, attention_max, attention_exp = attention_2d(query, key[0], value[0])  # d; 1; sk_size\n",
        "    for i in range(1, len(key)):\n",
        "        attention_out, attention_max_i, attention_exp_i = attention_2d(query, key[i], value[i])  # d; 1; sk_size\n",
        "        attention_max_offset = attention_max - attention_max_i # 1\n",
        "        attenion_exp_offset = jnp.exp(attention_max_offset) # 1\n",
        "        attention_accum *= attenion_exp_offset # d\n",
        "        attention_exp *= attenion_exp_offset # sk_size\n",
        "        attention_max = jnp.maximum(attention_max, attention_max_i) # 1\n",
        "        attention_exp_i_offset = jnp.exp(attention_max_i - attention_max) # 1\n",
        "        attention_accum += attention_out * attention_exp_i_offset # d\n",
        "        attention_exp += attention_exp_i * attention_exp_i_offset # sk_size\n",
        "    attention_accum /= attention_exp.sum()  # d\n",
        "    return attention_accum\n",
        "\n",
        "\n",
        "def attention_kv_looping_stable(query: jnp.ndarray, key: jnp.ndarray, value: jnp.ndarray):\n",
        "    # query: d\n",
        "    # key, value: num_sk x sk_size x d\n",
        "    attention_accum, attention_max, attention_exp = attention_2d(query, key[0], value[0])  # d; 1; sk_size\n",
        "    attention_exp_sum = attention_exp.sum()  # 1\n",
        "    attention_accum /= attention_exp_sum  # d\n",
        "    for i in range(1, len(key)):\n",
        "        attention_out, attention_max_i, attention_exp_i = attention_2d(query, key[i], value[i])  # d; 1; sk_size\n",
        "        attention_max_offset = attention_max - attention_max_i # 1\n",
        "        attenion_exp_offset = jnp.exp(attention_max_offset) # 1\n",
        "        attention_max = jnp.maximum(attention_max, attention_max_i) # 1\n",
        "        attention_exp_i_offset = jnp.exp(attention_max_i - attention_max) # 1\n",
        "        attention_accum = attention_accum * attention_exp_sum * attenion_exp_offset + attention_out * attention_exp_i_offset # d\n",
        "        attention_exp_sum = attention_exp_sum * attenion_exp_offset + attention_exp_i.sum() * attention_exp_i_offset # 1\n",
        "        attention_accum /= attention_exp_sum # d\n",
        "    return attention_accum\n",
        "\n",
        "\n",
        "def attention_q_tiling(query: jnp.ndarray, key: jnp.ndarray, value: jnp.ndarray):\n",
        "    # query: sq_size x d\n",
        "    # key, value: num_sk x sk_size x d\n",
        "    return jax.vmap(attention_kv_looping_stable, in_axes=(0, None, None))(query, key, value)  # sq_size, d\n",
        "\n",
        "def attention_q_blocking(query: jnp.ndarray, key: jnp.ndarray, value: jnp.ndarray):\n",
        "    # query: num_sq x sq_size x d\n",
        "    # key, value: num_sk x sk_size x d\n",
        "    return jax.vmap(attention_q_tiling, in_axes=(0, None, None))(query, key, value).reshape(-1, query.shape[-1])  # num_sq x sq_size, d\n",
        "\n",
        "def fa_(query: jnp.ndarray, key: jnp.ndarray, value: jnp.ndarray, blocksize_q: int, blocksize_kv: int):\n",
        "    # query: sq x d\n",
        "    # key, value: sk x d\n",
        "    query = query.reshape(query.shape[0]// blocksize_q, blocksize_q, query.shape[1])\n",
        "    key = key.reshape(key.shape[0] // blocksize_kv, blocksize_kv, key.shape[1])\n",
        "    value = value.reshape(value.shape[0] // blocksize_kv, blocksize_kv, value.shape[1])\n",
        "    return attention_q_blocking(query, key, value)\n",
        "\n",
        "@partial(jax.jit, static_argnames=(\"blocksize_q\", \"blocksize_kv\"))\n",
        "def fa_full(query: jnp.ndarray, key: jnp.ndarray, value: jnp.ndarray, blocksize_q: int, blocksize_kv: int):\n",
        "    # query: b x h x sq x d\n",
        "    # key, value: b x h x sk x d\n",
        "    fa_partial = partial(fa_, blocksize_q=blocksize_q, blocksize_kv=blocksize_kv)\n",
        "    return jax.vmap(jax.vmap(fa_partial))(query, key, value)"
      ],
      "metadata": {
        "id": "9kA45qY4XdJp"
      },
      "execution_count": 99,
      "outputs": []
    },
    {
      "cell_type": "code",
      "source": [
        "def attention_h(query: jnp.ndarray, key: jnp.ndarray, value: jnp.ndarray):\n",
        "    mm0 = jnp.matmul(query, jnp.transpose(key, [0, 2, 1]))\n",
        "    sm = nn.softmax(mm0 / jnp.sqrt(query.shape[-1]), axis=-1)\n",
        "    return jnp.matmul(sm, value)"
      ],
      "metadata": {
        "id": "tolpgKy-dDmV"
      },
      "execution_count": 15,
      "outputs": []
    },
    {
      "cell_type": "code",
      "source": [
        "x = jax.random.normal(key, [2, 2, 8, 4], jnp.bfloat16)\n",
        "x = x.to_device(devices[0])"
      ],
      "metadata": {
        "id": "n0JJA8tHihUE"
      },
      "execution_count": 42,
      "outputs": []
    },
    {
      "cell_type": "code",
      "source": [
        "at_full = attention(x, x, x)"
      ],
      "metadata": {
        "id": "HeaHSIqEiyOZ"
      },
      "execution_count": 46,
      "outputs": []
    },
    {
      "cell_type": "code",
      "source": [
        "at_fa = fa_full(x, x, x, 4, 4)\n",
        "at_fa"
      ],
      "metadata": {
        "colab": {
          "base_uri": "https://localhost:8080/"
        },
        "id": "fWHB_-gVi7ao",
        "outputId": "3a54e6b3-e25d-47dc-a19b-294cac363adf"
      },
      "execution_count": 100,
      "outputs": [
        {
          "output_type": "execute_result",
          "data": {
            "text/plain": [
              "Array([[[[0.664062, -1.65625, 0.490234, -2.03125],\n",
              "         [0.269531, 0.00402832, 0.667969, -0.0100708],\n",
              "         [1.15625, -2.23438, 0.699219, -2.09375],\n",
              "         [-0.878906, 1.54688, -2.89062, 0.953125],\n",
              "         [-0.143555, 0.59375, -0.898438, 0.209961],\n",
              "         [0.163086, -0.189453, -0.546875, -0.0385742],\n",
              "         [-1.23438, -1.50781, 0.121094, 1.5625],\n",
              "         [-0.355469, -0.267578, 1, 1.11719]],\n",
              "\n",
              "        [[-0.699219, 0.18457, 1.21094, 1.5],\n",
              "         [-0.554688, -0.137695, 1.42969, 0.933594],\n",
              "         [-0.972656, 0.279297, 2.40625, 1.84375],\n",
              "         [0.480469, 1.34375, -1.04688, -1.25],\n",
              "         [1.05469, -2.04688, -0.00469971, -0.259766],\n",
              "         [-0.0732422, -0.648438, 0.0844727, -0.15918],\n",
              "         [-0.289062, 0.210938, 0.902344, 1.42188],\n",
              "         [-1.5625, 0.240234, 0.316406, -0.554688]]],\n",
              "\n",
              "\n",
              "       [[[-0.324219, -0.347656, 0.566406, 0.710938],\n",
              "         [-0.800781, -0.178711, 0.664062, 0.582031],\n",
              "         [-0.19043, -1.08594, 0.746094, 0.570312],\n",
              "         [-1.38281, -0.0830078, 0.507812, 0.703125],\n",
              "         [1.44531, -1.02344, -0.211914, 0.726562],\n",
              "         [-0.339844, 0.191406, 0.71875, 0.730469],\n",
              "         [0.163086, -0.933594, 0.435547, 0.863281],\n",
              "         [0.167969, 0.925781, 1.21094, 0.769531]],\n",
              "\n",
              "        [[0.824219, 0.921875, -0.609375, 0.392578],\n",
              "         [1.39844, 0.796875, -0.209961, 2.20312],\n",
              "         [1.02344, -0.777344, 0.71875, 0.757812],\n",
              "         [1.4375, 1.07812, -0.960938, 0.441406],\n",
              "         [0.601562, -0.355469, 0.46875, 0.511719],\n",
              "         [1.34375, 1.27344, -1.69531, -0.433594],\n",
              "         [1.32812, 0.90625, -1.94531, -1.28906],\n",
              "         [1.28906, 0.173828, -0.679688, -0.535156]]]], dtype=bfloat16)"
            ]
          },
          "metadata": {},
          "execution_count": 100
        }
      ]
    },
    {
      "cell_type": "code",
      "source": [
        "at_fa"
      ],
      "metadata": {
        "colab": {
          "base_uri": "https://localhost:8080/"
        },
        "id": "iTeRr8u0xGZQ",
        "outputId": "05eba2d9-fdce-4f20-a176-c8b4e898c87b"
      },
      "execution_count": 95,
      "outputs": [
        {
          "output_type": "execute_result",
          "data": {
            "text/plain": [
              "Array([[[[0.664062, -1.65625, 0.492188, -2.03125],\n",
              "         [0.267578, 0.00390625, 0.664062, -0.0117798],\n",
              "         [1.16406, -2.23438, 0.699219, -2.10938],\n",
              "         [-0.878906, 1.54688, -2.89062, 0.953125],\n",
              "         [-0.144531, 0.59375, -0.894531, 0.209961],\n",
              "         [0.163086, -0.189453, -0.546875, -0.0378418],\n",
              "         [-1.23438, -1.50781, 0.121094, 1.5625],\n",
              "         [-0.355469, -0.267578, 1, 1.11719]],\n",
              "\n",
              "        [[-0.699219, 0.18457, 1.20312, 1.5],\n",
              "         [-0.554688, -0.137695, 1.42188, 0.933594],\n",
              "         [-0.976562, 0.279297, 2.40625, 1.85156],\n",
              "         [0.480469, 1.34375, -1.04688, -1.25],\n",
              "         [1.05469, -2.04688, -0.0045166, -0.259766],\n",
              "         [-0.0732422, -0.648438, 0.0844727, -0.15918],\n",
              "         [-0.289062, 0.210938, 0.90625, 1.42188],\n",
              "         [-1.5625, 0.240234, 0.316406, -0.554688]]],\n",
              "\n",
              "\n",
              "       [[[-0.322266, -0.349609, 0.566406, 0.710938],\n",
              "         [-0.800781, -0.178711, 0.664062, 0.582031],\n",
              "         [-0.19043, -1.07812, 0.75, 0.570312],\n",
              "         [-1.38281, -0.0825195, 0.503906, 0.703125],\n",
              "         [1.4375, -1.01562, -0.210938, 0.722656],\n",
              "         [-0.341797, 0.192383, 0.71875, 0.730469],\n",
              "         [0.164062, -0.933594, 0.4375, 0.863281],\n",
              "         [0.167969, 0.925781, 1.21094, 0.769531]],\n",
              "\n",
              "        [[0.824219, 0.921875, -0.609375, 0.392578],\n",
              "         [1.39844, 0.800781, -0.210938, 2.20312],\n",
              "         [1.02344, -0.773438, 0.71875, 0.753906],\n",
              "         [1.4375, 1.08594, -0.964844, 0.447266],\n",
              "         [0.601562, -0.353516, 0.46875, 0.511719],\n",
              "         [1.34375, 1.27344, -1.69531, -0.433594],\n",
              "         [1.32812, 0.90625, -1.94531, -1.28906],\n",
              "         [1.28906, 0.173828, -0.679688, -0.535156]]]], dtype=bfloat16)"
            ]
          },
          "metadata": {},
          "execution_count": 95
        }
      ]
    },
    {
      "cell_type": "code",
      "source": [
        "at_full"
      ],
      "metadata": {
        "colab": {
          "base_uri": "https://localhost:8080/"
        },
        "id": "sKT2jYQXxJ7A",
        "outputId": "d72b9d3b-6929-4f0d-a7b1-36de5af57782"
      },
      "execution_count": 83,
      "outputs": [
        {
          "output_type": "execute_result",
          "data": {
            "text/plain": [
              "Array([[[[0.632812, -1.57812, 0.451172, -1.89062],\n",
              "         [0.236328, 0.012207, 0.660156, 0.0751953],\n",
              "         [1.16406, -2.23438, 0.695312, -2.09375],\n",
              "         [-0.863281, 1.52344, -2.84375, 0.941406],\n",
              "         [-0.0869141, 0.527344, -0.753906, 0.24707],\n",
              "         [0.162109, -0.189453, -0.546875, -0.0383301],\n",
              "         [-1.23438, -1.50781, 0.120605, 1.5625],\n",
              "         [-0.353516, -0.267578, 1, 1.10938]],\n",
              "\n",
              "        [[-0.589844, 0.175781, 1.04688, 1.39844],\n",
              "         [-0.435547, -0.296875, 1.10156, 0.695312],\n",
              "         [-0.949219, 0.28125, 2.34375, 1.82031],\n",
              "         [0.308594, 1.11719, -0.902344, -1.11719],\n",
              "         [1.05469, -2.04688, -0.00430298, -0.259766],\n",
              "         [-0.0722656, -0.648438, 0.0844727, -0.160156],\n",
              "         [-0.289062, 0.210938, 0.902344, 1.42188],\n",
              "         [-1.5625, 0.240234, 0.316406, -0.554688]]],\n",
              "\n",
              "\n",
              "       [[[-0.304688, -0.34375, 0.566406, 0.71875],\n",
              "         [-0.628906, -0.0839844, 0.679688, 0.636719],\n",
              "         [-0.0576172, -1.04688, 0.664062, 0.671875],\n",
              "         [-1.10938, -0.0268555, 0.53125, 0.753906],\n",
              "         [1.4375, -1.01562, -0.209961, 0.722656],\n",
              "         [-0.339844, 0.192383, 0.714844, 0.726562],\n",
              "         [0.164062, -0.933594, 0.435547, 0.863281],\n",
              "         [0.167969, 0.929688, 1.21094, 0.769531]],\n",
              "\n",
              "        [[0.832031, 0.914062, -0.640625, 0.345703],\n",
              "         [1.38281, 0.820312, -0.283203, 2.0625],\n",
              "         [0.9375, -0.71875, 0.621094, 0.527344],\n",
              "         [1.4375, 1.08594, -0.984375, 0.419922],\n",
              "         [0.589844, -0.361328, 0.46875, 0.496094],\n",
              "         [1.34375, 1.27344, -1.69531, -0.435547],\n",
              "         [1.32812, 0.902344, -1.9375, -1.28906],\n",
              "         [1.28906, 0.172852, -0.675781, -0.53125]]]], dtype=bfloat16)"
            ]
          },
          "metadata": {},
          "execution_count": 83
        }
      ]
    },
    {
      "cell_type": "code",
      "source": [
        "jax_pr = jax.make_jaxpr(fa_full, static_argnums=[3, 4])(x, x, x, 4, 4)"
      ],
      "metadata": {
        "id": "1ll8_1yskQ6B"
      },
      "execution_count": 84,
      "outputs": []
    },
    {
      "cell_type": "code",
      "source": [
        "jax_pr"
      ],
      "metadata": {
        "colab": {
          "base_uri": "https://localhost:8080/"
        },
        "id": "zNFCfwMirAsy",
        "outputId": "5f81ac4a-0b01-4279-9ca1-84b984004d2e"
      },
      "execution_count": 85,
      "outputs": [
        {
          "output_type": "execute_result",
          "data": {
            "text/plain": [
              "{ lambda ; a:bf16[2,2,8,4] b:bf16[2,2,8,4] c:bf16[2,2,8,4]. let\n",
              "    d:bf16[2,2,2,4,4] = reshape[dimensions=None new_sizes=(2, 2, 2, 4, 4)] a\n",
              "    e:bf16[2,2,2,4,4] = reshape[dimensions=None new_sizes=(2, 2, 2, 4, 4)] b\n",
              "    f:bf16[2,2,2,4,4] = reshape[dimensions=None new_sizes=(2, 2, 2, 4, 4)] c\n",
              "    g:bf16[2,2,1,4,4] = slice[\n",
              "      limit_indices=(2, 2, 1, 4, 4)\n",
              "      start_indices=(0, 0, 0, 0, 0)\n",
              "      strides=None\n",
              "    ] e\n",
              "    h:bf16[2,2,4,4] = squeeze[dimensions=(2,)] g\n",
              "    i:bf16[2,2,1,4,4] = slice[\n",
              "      limit_indices=(2, 2, 1, 4, 4)\n",
              "      start_indices=(0, 0, 0, 0, 0)\n",
              "      strides=None\n",
              "    ] f\n",
              "    j:bf16[2,2,4,4] = squeeze[dimensions=(2,)] i\n",
              "    k:bf16[2,2,4,4] = transpose[permutation=(0, 1, 3, 2)] h\n",
              "    l:bf16[2,2,2,4,4] = dot_general[\n",
              "      dimension_numbers=(([4], [2]), ([0, 1], [0, 1]))\n",
              "      preferred_element_type=bfloat16\n",
              "    ] d k\n",
              "    m:f32[] = sqrt 4.0\n",
              "    n:bf16[] = convert_element_type[new_dtype=bfloat16 weak_type=False] m\n",
              "    o:bf16[2,2,2,4,4] = div l n\n",
              "    p:bf16[2,2,2,4] = reduce_max[axes=(4,)] o\n",
              "    q:bf16[2,2,2,4,1] = broadcast_in_dim[\n",
              "      broadcast_dimensions=(0, 1, 2, 3)\n",
              "      shape=(2, 2, 2, 4, 1)\n",
              "    ] p\n",
              "    r:bf16[2,2,2,4,4] = sub o q\n",
              "    s:bf16[2,2,2,4,4] = exp r\n",
              "    t:bf16[2,2,2,4,4] = dot_general[\n",
              "      dimension_numbers=(([4], [2]), ([0, 1], [0, 1]))\n",
              "      preferred_element_type=bfloat16\n",
              "    ] s j\n",
              "    u:bf16[2,2,1,4,4] = slice[\n",
              "      limit_indices=(2, 2, 2, 4, 4)\n",
              "      start_indices=(0, 0, 1, 0, 0)\n",
              "      strides=None\n",
              "    ] e\n",
              "    v:bf16[2,2,4,4] = squeeze[dimensions=(2,)] u\n",
              "    w:bf16[2,2,1,4,4] = slice[\n",
              "      limit_indices=(2, 2, 2, 4, 4)\n",
              "      start_indices=(0, 0, 1, 0, 0)\n",
              "      strides=None\n",
              "    ] f\n",
              "    x:bf16[2,2,4,4] = squeeze[dimensions=(2,)] w\n",
              "    y:bf16[2,2,4,4] = transpose[permutation=(0, 1, 3, 2)] v\n",
              "    z:bf16[2,2,2,4,4] = dot_general[\n",
              "      dimension_numbers=(([4], [2]), ([0, 1], [0, 1]))\n",
              "      preferred_element_type=bfloat16\n",
              "    ] d y\n",
              "    ba:f32[] = sqrt 4.0\n",
              "    bb:bf16[] = convert_element_type[new_dtype=bfloat16 weak_type=False] ba\n",
              "    bc:bf16[2,2,2,4,4] = div z bb\n",
              "    bd:bf16[2,2,2,4] = reduce_max[axes=(4,)] bc\n",
              "    be:bf16[2,2,2,4,1] = broadcast_in_dim[\n",
              "      broadcast_dimensions=(0, 1, 2, 3)\n",
              "      shape=(2, 2, 2, 4, 1)\n",
              "    ] bd\n",
              "    bf:bf16[2,2,2,4,4] = sub bc be\n",
              "    bg:bf16[2,2,2,4,4] = exp bf\n",
              "    bh:bf16[2,2,2,4,4] = dot_general[\n",
              "      dimension_numbers=(([4], [2]), ([0, 1], [0, 1]))\n",
              "      preferred_element_type=bfloat16\n",
              "    ] bg x\n",
              "    bi:bf16[2,2,2,4,1] = sub q be\n",
              "    bj:bf16[2,2,2,4,1] = exp bi\n",
              "    bk:bf16[2,2,2,4,4] = mul t bj\n",
              "    bl:bf16[2,2,2,4,4] = mul s bj\n",
              "    bm:bf16[2,2,2,4,1] = max q be\n",
              "    bn:bf16[2,2,2,4,1] = sub be bm\n",
              "    bo:bf16[2,2,2,4,1] = exp bn\n",
              "    bp:bf16[2,2,2,4,4] = mul bh bo\n",
              "    bq:bf16[2,2,2,4,4] = add bk bp\n",
              "    br:bf16[2,2,2,4,4] = mul bg bo\n",
              "    bs:bf16[2,2,2,4,4] = add bl br\n",
              "    bt:f32[2,2,2,4,4] = convert_element_type[new_dtype=float32 weak_type=False] bs\n",
              "    bu:f32[2,2,2,4] = reduce_sum[axes=(4,)] bt\n",
              "    bv:bf16[2,2,2,4] = convert_element_type[new_dtype=bfloat16 weak_type=False] bu\n",
              "    bw:bf16[2,2,2,4,1] = broadcast_in_dim[\n",
              "      broadcast_dimensions=(0, 1, 2, 3)\n",
              "      shape=(2, 2, 2, 4, 1)\n",
              "    ] bv\n",
              "    bx:bf16[2,2,2,4,4] = div bq bw\n",
              "    by:bf16[2,2,8,4] = reshape[dimensions=None new_sizes=(2, 2, 8, 4)] bx\n",
              "  in (by,) }"
            ]
          },
          "metadata": {},
          "execution_count": 85
        }
      ]
    },
    {
      "cell_type": "code",
      "source": [],
      "metadata": {
        "id": "ORAZXorgx-IY"
      },
      "execution_count": null,
      "outputs": []
    }
  ]
}